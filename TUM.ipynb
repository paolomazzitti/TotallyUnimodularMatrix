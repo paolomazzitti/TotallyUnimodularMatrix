{
 "cells": [
  {
   "cell_type": "markdown",
   "source": [
    "# TUM"
   ],
   "metadata": {
    "collapsed": false
   }
  },
  {
   "cell_type": "code",
   "execution_count": 1,
   "metadata": {},
   "outputs": [
    {
     "name": "stdout",
     "output_type": "stream",
     "text": [
      "Requirement already satisfied: numpy in /Users/paolomazzitti/Desktop/uni_prog/venv/lib/python3.11/site-packages (1.24.1)\r\n",
      "\u001B[33mWARNING: You are using pip version 21.3.1; however, version 22.3.1 is available.\r\n",
      "You should consider upgrading via the '/Users/paolomazzitti/Desktop/uni_prog/venv/bin/python -m pip install --upgrade pip' command.\u001B[0m\r\n",
      "Note: you may need to restart the kernel to use updated packages.\n"
     ]
    }
   ],
   "source": [
    "%pip install numpy\n",
    "from itertools import product\n",
    "import numpy as np"
   ]
  },
  {
   "cell_type": "code",
   "execution_count": 2,
   "metadata": {},
   "outputs": [],
   "source": [
    "dimensione = (1000, 700)\n",
    "np.random.seed(100)\n",
    "matrix = np.random.randint(-1, 2, dimensione)"
   ]
  },
  {
   "cell_type": "code",
   "execution_count": 5,
   "metadata": {},
   "outputs": [],
   "source": [
    "def numeri_diversi_zero(tupla):\n",
    "    return sum(x != 0 for x in tupla)\n",
    "\n",
    "\n",
    "def genera_indici_righe():\n",
    "    for indice in product((0, 1), repeat=matrix.shape[0]):\n",
    "        if 2 <= numeri_diversi_zero(indice) <= min(matrix.shape):\n",
    "            yield indice\n",
    "\n",
    "\n",
    "def genera_indici_colonne():\n",
    "    for indice in product((0, 1), repeat=matrix.shape[1]):\n",
    "        if 2 <= numeri_diversi_zero(indice) <= min(matrix.shape):\n",
    "            yield indice\n",
    "\n",
    "\n",
    "def converti_bin_dec(tupla):\n",
    "    return [i for i, element in enumerate(tupla) if element != 0]\n",
    "\n",
    "\n",
    "def genera_indici_sottomatrici_quadrate():\n",
    "    for indice_riga in genera_indici_righe():\n",
    "        for indice_colonna in genera_indici_colonne():\n",
    "            if numeri_diversi_zero(indice_riga) == numeri_diversi_zero(indice_colonna):\n",
    "                yield converti_bin_dec(indice_riga), converti_bin_dec(indice_colonna)\n",
    "\n",
    "\n",
    "def isTUM(matrice, verbose=False):\n",
    "    if check_binary(matrice):\n",
    "        for indici in genera_indici_sottomatrici_quadrate():\n",
    "            det = np.linalg.det(matrice[np.ix_(indici[0], indici[1])])\n",
    "            if det not in [1, -1, 0]:\n",
    "                if verbose:\n",
    "                    print(\n",
    "                        f\"La stringa non TUM è:\\n {matrice[np.ix_(indici[0], indici[1])]}\\n con det: {det}\")\n",
    "                return False\n",
    "    return True\n",
    "\n",
    "\n",
    "def check_binary(x):\n",
    "    return all(v.item() in [0, 1, -1] for v in np.nditer(x))"
   ]
  },
  {
   "cell_type": "code",
   "execution_count": 6,
   "metadata": {},
   "outputs": [
    {
     "name": "stdout",
     "output_type": "stream",
     "text": [
      "90.1 ms ± 155 µs per loop (mean ± std. dev. of 7 runs, 10 loops each)\n"
     ]
    }
   ],
   "source": [
    "%timeit isTUM(matrix)"
   ]
  },
  {
   "cell_type": "code",
   "execution_count": 10,
   "metadata": {
    "collapsed": false
   },
   "outputs": [
    {
     "name": "stdout",
     "output_type": "stream",
     "text": [
      "[0, 1, 29, 69, 6819]\n"
     ]
    }
   ],
   "source": [
    "stats = []\n",
    "max_dim = 7\n",
    "\n",
    "for dim in range(2, max_dim):\n",
    "    count = 0\n",
    "    matrix = np.random.randint(-1, 2, (dim, dim))\n",
    "    while not isTUM(matrix) or count == 100_000_000:\n",
    "        count += 1\n",
    "        matrix = np.random.randint(-1, 2, (dim, dim))\n",
    "    stats.append(count)\n",
    "\n",
    "print(stats)\n"
   ]
  },
  {
   "cell_type": "code",
   "execution_count": 19,
   "outputs": [],
   "source": [],
   "metadata": {
    "collapsed": false
   }
  }
 ],
 "metadata": {
  "kernelspec": {
   "display_name": "Python 3",
   "language": "python",
   "name": "python3"
  },
  "language_info": {
   "codemirror_mode": {
    "name": "ipython",
    "version": 3
   },
   "file_extension": ".py",
   "mimetype": "text/x-python",
   "name": "python",
   "nbconvert_exporter": "python",
   "pygments_lexer": "ipython3",
   "version": "3.11.0 (v3.11.0:deaf509e8f, Oct 24 2022, 14:43:23) [Clang 13.0.0 (clang-1300.0.29.30)]"
  },
  "orig_nbformat": 4,
  "vscode": {
   "interpreter": {
    "hash": "949777d72b0d2535278d3dc13498b2535136f6dfe0678499012e853ee9abcab1"
   }
  }
 },
 "nbformat": 4,
 "nbformat_minor": 2
}
